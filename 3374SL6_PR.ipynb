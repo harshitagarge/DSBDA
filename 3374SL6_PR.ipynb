{
  "nbformat": 4,
  "nbformat_minor": 0,
  "metadata": {
    "colab": {
      "name": "3374SL6_PR.ipynb",
      "provenance": [],
      "toc_visible": true,
      "include_colab_link": true
    },
    "kernelspec": {
      "name": "python3",
      "display_name": "Python 3"
    },
    "language_info": {
      "name": "python"
    }
  },
  "cells": [
    {
      "cell_type": "markdown",
      "metadata": {
        "id": "view-in-github",
        "colab_type": "text"
      },
      "source": [
        "<a href=\"https://colab.research.google.com/github/harshitagarge/DSBDA/blob/main/3374SL6_PR.ipynb\" target=\"_parent\"><img src=\"https://colab.research.google.com/assets/colab-badge.svg\" alt=\"Open In Colab\"/></a>"
      ]
    },
    {
      "cell_type": "markdown",
      "metadata": {
        "id": "r0D1KRBPoi8f"
      },
      "source": [
        "**Problem 4 : Write down the code for following output**"
      ]
    },
    {
      "cell_type": "code",
      "metadata": {
        "colab": {
          "base_uri": "https://localhost:8080/"
        },
        "id": "KccJh9n1oDk9",
        "outputId": "7339b2a6-4450-4af5-c040-eea52691e5e7"
      },
      "source": [
        "import pandas as pd\n",
        "import numpy as np\n",
        "data = {'a' : 0.,'b' : 1., 'c' : 2. }\n",
        "s = pd.Series(data)\n",
        "print (s)"
      ],
      "execution_count": null,
      "outputs": [
        {
          "output_type": "stream",
          "text": [
            "a    0.0\n",
            "b    1.0\n",
            "c    2.0\n",
            "dtype: float64\n"
          ],
          "name": "stdout"
        }
      ]
    },
    {
      "cell_type": "markdown",
      "metadata": {
        "id": "aah1vGRTsvfS"
      },
      "source": [
        "**Problem Statement 3: Create a Data Frame of your family with column name as Name, Relation, Age, Birth date for minimum 10 records. Perform the following operations on data frame 1) Display of Data Frame 2) Ascending Order Sorting of Name 3) Descending Order Sorting of Age 4) Copy the Data Frame to another Data Frame**"
      ]
    },
    {
      "cell_type": "code",
      "metadata": {
        "colab": {
          "base_uri": "https://localhost:8080/"
        },
        "id": "3pN0FyWlocJV",
        "outputId": "b9f35aff-8ebc-4bd9-ffc5-576a621f3395"
      },
      "source": [
        "import pandas as pd\n",
        "data = [['Harshita', 'Self', 21, '22 August 1999'],\n",
        "        ['Kishor', 'Father', 62, '11 July 1957'],\n",
        "        ['Vandana', 'Mother', 54, '30 August 1965'],\n",
        "        ['Anushree', 'Sister-in-law', 25, '5 April 1997'],\n",
        "        ['Ashish', 'Brother', 30, '23 April 1989'],\n",
        "        ['Suman', 'Grandmother', 80, '21 November 1942'],\n",
        "        ['Harshita', 'Self', 20, '22 August 1999'],\n",
        "        ['Harshita', 'Self', 20, '22 August 1999'],\n",
        "        ['Harshita', 'Self', 20, '22 August 1999'],\n",
        "        ['Harshita', 'Self', 20, '22 August 1999']]\n",
        "df = pd.DataFrame(data, columns = ['Name', 'Relation', 'Age', 'Birthdate'])\n",
        "print(df)\n",
        "print(df.sort_values(by='Name', axis= 0, ascending= True))\n",
        "print(df.sort_values(by='Age', axis= 0, ascending= False))\n",
        "new_df = pd.DataFrame.copy(df)\n",
        "print(new_df)"
      ],
      "execution_count": null,
      "outputs": [
        {
          "output_type": "stream",
          "text": [
            "       Name       Relation  Age         Birthdate\n",
            "0  Harshita           Self   21    22 August 1999\n",
            "1    Kishor         Father   62      11 July 1957\n",
            "2   Vandana         Mother   54    30 August 1965\n",
            "3  Anushree  Sister-in-law   25      5 April 1997\n",
            "4    Ashish        Brother   30     23 April 1989\n",
            "5     Suman    Grandmother   80  21 November 1942\n",
            "6  Harshita           Self   20    22 August 1999\n",
            "7  Harshita           Self   20    22 August 1999\n",
            "8  Harshita           Self   20    22 August 1999\n",
            "9  Harshita           Self   20    22 August 1999\n",
            "       Name       Relation  Age         Birthdate\n",
            "3  Anushree  Sister-in-law   25      5 April 1997\n",
            "4    Ashish        Brother   30     23 April 1989\n",
            "0  Harshita           Self   21    22 August 1999\n",
            "6  Harshita           Self   20    22 August 1999\n",
            "7  Harshita           Self   20    22 August 1999\n",
            "8  Harshita           Self   20    22 August 1999\n",
            "9  Harshita           Self   20    22 August 1999\n",
            "1    Kishor         Father   62      11 July 1957\n",
            "5     Suman    Grandmother   80  21 November 1942\n",
            "2   Vandana         Mother   54    30 August 1965\n",
            "       Name       Relation  Age         Birthdate\n",
            "5     Suman    Grandmother   80  21 November 1942\n",
            "1    Kishor         Father   62      11 July 1957\n",
            "2   Vandana         Mother   54    30 August 1965\n",
            "4    Ashish        Brother   30     23 April 1989\n",
            "3  Anushree  Sister-in-law   25      5 April 1997\n",
            "0  Harshita           Self   21    22 August 1999\n",
            "6  Harshita           Self   20    22 August 1999\n",
            "7  Harshita           Self   20    22 August 1999\n",
            "8  Harshita           Self   20    22 August 1999\n",
            "9  Harshita           Self   20    22 August 1999\n",
            "       Name       Relation  Age         Birthdate\n",
            "0  Harshita           Self   21    22 August 1999\n",
            "1    Kishor         Father   62      11 July 1957\n",
            "2   Vandana         Mother   54    30 August 1965\n",
            "3  Anushree  Sister-in-law   25      5 April 1997\n",
            "4    Ashish        Brother   30     23 April 1989\n",
            "5     Suman    Grandmother   80  21 November 1942\n",
            "6  Harshita           Self   20    22 August 1999\n",
            "7  Harshita           Self   20    22 August 1999\n",
            "8  Harshita           Self   20    22 August 1999\n",
            "9  Harshita           Self   20    22 August 1999\n"
          ],
          "name": "stdout"
        }
      ]
    },
    {
      "cell_type": "markdown",
      "metadata": {
        "id": "Vf8ck6iOzZEj"
      },
      "source": [
        "**PRoblem Statement 1 : Create a Data Frame of your name for S.E. mark sheet using column name as 'Subject Name', 'Marks', 'Semester' for minimum 8 subjects. 1)Calculate the percentage that you secured in S.E. mark sheet 2) Display first 3 records of the Data Frame 3) Display last 2 records of the Data Frame**"
      ]
    },
    {
      "cell_type": "code",
      "metadata": {
        "colab": {
          "base_uri": "https://localhost:8080/"
        },
        "id": "u_8i4GjkwSNZ",
        "outputId": "94f3a626-27b2-4675-df24-07a2c73e66e3"
      },
      "source": [
        "import pandas as pd\n",
        "data = [['DS', 45, 3],\n",
        "        ['COA', 42, 3],\n",
        "        ['DELD', 40, 3],\n",
        "        ['Engineering Mathematics 3', 48, 3],\n",
        "        ['CG', 95, 3],\n",
        "        ['PSSOP', 46, 4],\n",
        "        ['DSF', 41, 4],\n",
        "        ['PAI', 48 , 4]]\n",
        "Harshita = pd.DataFrame(data, columns = ['Subject Name', 'Marks', 'Semester'])\n",
        "print(Harshita)\n",
        "percentage = (Harshita['Marks'].sum()/800)* 100\n",
        "print(percentage)\n",
        "print(Harshita.head(3))\n",
        "print(Harshita.iloc[-2:])"
      ],
      "execution_count": null,
      "outputs": [
        {
          "output_type": "stream",
          "text": [
            "                Subject Name  Marks  Semester\n",
            "0                         DS     45         3\n",
            "1                        COA     42         3\n",
            "2                       DELD     40         3\n",
            "3  Engineering Mathematics 3     48         3\n",
            "4                         CG     95         3\n",
            "5                      PSSOP     46         4\n",
            "6                        DSF     41         4\n",
            "7                        PAI     48         4\n",
            "50.625\n",
            "  Subject Name  Marks  Semester\n",
            "0           DS     45         3\n",
            "1          COA     42         3\n",
            "2         DELD     40         3\n",
            "  Subject Name  Marks  Semester\n",
            "6          DSF     41         4\n",
            "7          PAI     48         4\n"
          ],
          "name": "stdout"
        }
      ]
    },
    {
      "cell_type": "markdown",
      "metadata": {
        "id": "glLePk6W8Roj"
      },
      "source": [
        "**Problem Statement 3 : Create a Data Frame for Districts from India with column name as 'District Name', 'Population','State' with some null values. Prepare total 15 records. Out of which randomly put null values in maximum 5 records. Perform the following operations on it, 1) Convert the data type of population from float to integer 2) Replace all null values to 1. 3) Rename the column name 'District Name' to 'Name of the District' 4) Set the index for Data Frame**"
      ]
    },
    {
      "cell_type": "code",
      "metadata": {
        "colab": {
          "base_uri": "https://localhost:8080/",
          "height": 538
        },
        "id": "TlEVicgp7xV-",
        "outputId": "ae8fde79-b105-4e28-8e72-6753702428a8"
      },
      "source": [
        "import pandas as pd\n",
        "import numpy as np\n",
        "data = [['Pune', 3000000, 'MH'],['Thane', np.nan, 'MH'], ['Aurangabad', 100000, 'MH'], ['Bhopal', 200000, 'MP'], ['Hoshangabad', 100000, 'MP'], ['Indore', 1500000, 'MP'], ['Chennai', 120000, 'TN'], ['Solhapur', np.nan, 'MH'], ['Sangli', 100000, 'MH'], ['Jabalpur', 120000, 'MP'], ['Satara', 140000, 'MH'], ['Devas',np.nan, 'MP'], ['Budhni', 100000, 'MP'], ['Kolhapur', np.nan, 'MH'], ['Gandhinagar', 120000, 'GUJ'], ['Bhilai', np.nan, 'MP']]\n",
        "df = pd.DataFrame(data, columns = ['District Name', 'Population', 'State'])\n",
        "df"
      ],
      "execution_count": 1,
      "outputs": [
        {
          "output_type": "execute_result",
          "data": {
            "text/html": [
              "<div>\n",
              "<style scoped>\n",
              "    .dataframe tbody tr th:only-of-type {\n",
              "        vertical-align: middle;\n",
              "    }\n",
              "\n",
              "    .dataframe tbody tr th {\n",
              "        vertical-align: top;\n",
              "    }\n",
              "\n",
              "    .dataframe thead th {\n",
              "        text-align: right;\n",
              "    }\n",
              "</style>\n",
              "<table border=\"1\" class=\"dataframe\">\n",
              "  <thead>\n",
              "    <tr style=\"text-align: right;\">\n",
              "      <th></th>\n",
              "      <th>District Name</th>\n",
              "      <th>Population</th>\n",
              "      <th>State</th>\n",
              "    </tr>\n",
              "  </thead>\n",
              "  <tbody>\n",
              "    <tr>\n",
              "      <th>0</th>\n",
              "      <td>Pune</td>\n",
              "      <td>3000000.0</td>\n",
              "      <td>MH</td>\n",
              "    </tr>\n",
              "    <tr>\n",
              "      <th>1</th>\n",
              "      <td>Thane</td>\n",
              "      <td>NaN</td>\n",
              "      <td>MH</td>\n",
              "    </tr>\n",
              "    <tr>\n",
              "      <th>2</th>\n",
              "      <td>Aurangabad</td>\n",
              "      <td>100000.0</td>\n",
              "      <td>MH</td>\n",
              "    </tr>\n",
              "    <tr>\n",
              "      <th>3</th>\n",
              "      <td>Bhopal</td>\n",
              "      <td>200000.0</td>\n",
              "      <td>MP</td>\n",
              "    </tr>\n",
              "    <tr>\n",
              "      <th>4</th>\n",
              "      <td>Hoshangabad</td>\n",
              "      <td>100000.0</td>\n",
              "      <td>MP</td>\n",
              "    </tr>\n",
              "    <tr>\n",
              "      <th>5</th>\n",
              "      <td>Indore</td>\n",
              "      <td>1500000.0</td>\n",
              "      <td>MP</td>\n",
              "    </tr>\n",
              "    <tr>\n",
              "      <th>6</th>\n",
              "      <td>Chennai</td>\n",
              "      <td>120000.0</td>\n",
              "      <td>TN</td>\n",
              "    </tr>\n",
              "    <tr>\n",
              "      <th>7</th>\n",
              "      <td>Solhapur</td>\n",
              "      <td>NaN</td>\n",
              "      <td>MH</td>\n",
              "    </tr>\n",
              "    <tr>\n",
              "      <th>8</th>\n",
              "      <td>Sangli</td>\n",
              "      <td>100000.0</td>\n",
              "      <td>MH</td>\n",
              "    </tr>\n",
              "    <tr>\n",
              "      <th>9</th>\n",
              "      <td>Jabalpur</td>\n",
              "      <td>120000.0</td>\n",
              "      <td>MP</td>\n",
              "    </tr>\n",
              "    <tr>\n",
              "      <th>10</th>\n",
              "      <td>Satara</td>\n",
              "      <td>140000.0</td>\n",
              "      <td>MH</td>\n",
              "    </tr>\n",
              "    <tr>\n",
              "      <th>11</th>\n",
              "      <td>Devas</td>\n",
              "      <td>NaN</td>\n",
              "      <td>MP</td>\n",
              "    </tr>\n",
              "    <tr>\n",
              "      <th>12</th>\n",
              "      <td>Budhni</td>\n",
              "      <td>100000.0</td>\n",
              "      <td>MP</td>\n",
              "    </tr>\n",
              "    <tr>\n",
              "      <th>13</th>\n",
              "      <td>Kolhapur</td>\n",
              "      <td>NaN</td>\n",
              "      <td>MH</td>\n",
              "    </tr>\n",
              "    <tr>\n",
              "      <th>14</th>\n",
              "      <td>Gandhinagar</td>\n",
              "      <td>120000.0</td>\n",
              "      <td>GUJ</td>\n",
              "    </tr>\n",
              "    <tr>\n",
              "      <th>15</th>\n",
              "      <td>Bhilai</td>\n",
              "      <td>NaN</td>\n",
              "      <td>MP</td>\n",
              "    </tr>\n",
              "  </tbody>\n",
              "</table>\n",
              "</div>"
            ],
            "text/plain": [
              "   District Name  Population State\n",
              "0           Pune   3000000.0    MH\n",
              "1          Thane         NaN    MH\n",
              "2     Aurangabad    100000.0    MH\n",
              "3         Bhopal    200000.0    MP\n",
              "4    Hoshangabad    100000.0    MP\n",
              "5         Indore   1500000.0    MP\n",
              "6        Chennai    120000.0    TN\n",
              "7       Solhapur         NaN    MH\n",
              "8         Sangli    100000.0    MH\n",
              "9       Jabalpur    120000.0    MP\n",
              "10        Satara    140000.0    MH\n",
              "11         Devas         NaN    MP\n",
              "12        Budhni    100000.0    MP\n",
              "13      Kolhapur         NaN    MH\n",
              "14   Gandhinagar    120000.0   GUJ\n",
              "15        Bhilai         NaN    MP"
            ]
          },
          "metadata": {
            "tags": []
          },
          "execution_count": 1
        }
      ]
    },
    {
      "cell_type": "code",
      "metadata": {
        "colab": {
          "base_uri": "https://localhost:8080/",
          "height": 538
        },
        "id": "t5esPWu3Ba1O",
        "outputId": "3af5446d-c2c0-4752-9fee-fe4c1d34cdbd"
      },
      "source": [
        "df['Population'] = df['Population'].fillna(1)\n",
        "df"
      ],
      "execution_count": 4,
      "outputs": [
        {
          "output_type": "execute_result",
          "data": {
            "text/html": [
              "<div>\n",
              "<style scoped>\n",
              "    .dataframe tbody tr th:only-of-type {\n",
              "        vertical-align: middle;\n",
              "    }\n",
              "\n",
              "    .dataframe tbody tr th {\n",
              "        vertical-align: top;\n",
              "    }\n",
              "\n",
              "    .dataframe thead th {\n",
              "        text-align: right;\n",
              "    }\n",
              "</style>\n",
              "<table border=\"1\" class=\"dataframe\">\n",
              "  <thead>\n",
              "    <tr style=\"text-align: right;\">\n",
              "      <th></th>\n",
              "      <th>Name of District</th>\n",
              "      <th>Population</th>\n",
              "      <th>State</th>\n",
              "    </tr>\n",
              "  </thead>\n",
              "  <tbody>\n",
              "    <tr>\n",
              "      <th>0</th>\n",
              "      <td>Pune</td>\n",
              "      <td>3000000.0</td>\n",
              "      <td>MH</td>\n",
              "    </tr>\n",
              "    <tr>\n",
              "      <th>1</th>\n",
              "      <td>Thane</td>\n",
              "      <td>1.0</td>\n",
              "      <td>MH</td>\n",
              "    </tr>\n",
              "    <tr>\n",
              "      <th>2</th>\n",
              "      <td>Aurangabad</td>\n",
              "      <td>100000.0</td>\n",
              "      <td>MH</td>\n",
              "    </tr>\n",
              "    <tr>\n",
              "      <th>3</th>\n",
              "      <td>Bhopal</td>\n",
              "      <td>200000.0</td>\n",
              "      <td>MP</td>\n",
              "    </tr>\n",
              "    <tr>\n",
              "      <th>4</th>\n",
              "      <td>Hoshangabad</td>\n",
              "      <td>100000.0</td>\n",
              "      <td>MP</td>\n",
              "    </tr>\n",
              "    <tr>\n",
              "      <th>5</th>\n",
              "      <td>Indore</td>\n",
              "      <td>1500000.0</td>\n",
              "      <td>MP</td>\n",
              "    </tr>\n",
              "    <tr>\n",
              "      <th>6</th>\n",
              "      <td>Chennai</td>\n",
              "      <td>120000.0</td>\n",
              "      <td>TN</td>\n",
              "    </tr>\n",
              "    <tr>\n",
              "      <th>7</th>\n",
              "      <td>Solhapur</td>\n",
              "      <td>1.0</td>\n",
              "      <td>MH</td>\n",
              "    </tr>\n",
              "    <tr>\n",
              "      <th>8</th>\n",
              "      <td>Sangli</td>\n",
              "      <td>100000.0</td>\n",
              "      <td>MH</td>\n",
              "    </tr>\n",
              "    <tr>\n",
              "      <th>9</th>\n",
              "      <td>Jabalpur</td>\n",
              "      <td>120000.0</td>\n",
              "      <td>MP</td>\n",
              "    </tr>\n",
              "    <tr>\n",
              "      <th>10</th>\n",
              "      <td>Satara</td>\n",
              "      <td>140000.0</td>\n",
              "      <td>MH</td>\n",
              "    </tr>\n",
              "    <tr>\n",
              "      <th>11</th>\n",
              "      <td>Devas</td>\n",
              "      <td>1.0</td>\n",
              "      <td>MP</td>\n",
              "    </tr>\n",
              "    <tr>\n",
              "      <th>12</th>\n",
              "      <td>Budhni</td>\n",
              "      <td>100000.0</td>\n",
              "      <td>MP</td>\n",
              "    </tr>\n",
              "    <tr>\n",
              "      <th>13</th>\n",
              "      <td>Kolhapur</td>\n",
              "      <td>1.0</td>\n",
              "      <td>MH</td>\n",
              "    </tr>\n",
              "    <tr>\n",
              "      <th>14</th>\n",
              "      <td>Gandhinagar</td>\n",
              "      <td>120000.0</td>\n",
              "      <td>GUJ</td>\n",
              "    </tr>\n",
              "    <tr>\n",
              "      <th>15</th>\n",
              "      <td>Bhilai</td>\n",
              "      <td>1.0</td>\n",
              "      <td>MP</td>\n",
              "    </tr>\n",
              "  </tbody>\n",
              "</table>\n",
              "</div>"
            ],
            "text/plain": [
              "   Name of District  Population State\n",
              "0              Pune   3000000.0    MH\n",
              "1             Thane         1.0    MH\n",
              "2        Aurangabad    100000.0    MH\n",
              "3            Bhopal    200000.0    MP\n",
              "4       Hoshangabad    100000.0    MP\n",
              "5            Indore   1500000.0    MP\n",
              "6           Chennai    120000.0    TN\n",
              "7          Solhapur         1.0    MH\n",
              "8            Sangli    100000.0    MH\n",
              "9          Jabalpur    120000.0    MP\n",
              "10           Satara    140000.0    MH\n",
              "11            Devas         1.0    MP\n",
              "12           Budhni    100000.0    MP\n",
              "13         Kolhapur         1.0    MH\n",
              "14      Gandhinagar    120000.0   GUJ\n",
              "15           Bhilai         1.0    MP"
            ]
          },
          "metadata": {
            "tags": []
          },
          "execution_count": 4
        }
      ]
    },
    {
      "cell_type": "code",
      "metadata": {
        "colab": {
          "base_uri": "https://localhost:8080/",
          "height": 538
        },
        "id": "C6bcxKtk77do",
        "outputId": "f27cf427-c756-4e65-ef56-6a7c259aad4a"
      },
      "source": [
        "df['Population'] = df['Population'].fillna(1)\n",
        "df"
      ],
      "execution_count": 3,
      "outputs": [
        {
          "output_type": "execute_result",
          "data": {
            "text/html": [
              "<div>\n",
              "<style scoped>\n",
              "    .dataframe tbody tr th:only-of-type {\n",
              "        vertical-align: middle;\n",
              "    }\n",
              "\n",
              "    .dataframe tbody tr th {\n",
              "        vertical-align: top;\n",
              "    }\n",
              "\n",
              "    .dataframe thead th {\n",
              "        text-align: right;\n",
              "    }\n",
              "</style>\n",
              "<table border=\"1\" class=\"dataframe\">\n",
              "  <thead>\n",
              "    <tr style=\"text-align: right;\">\n",
              "      <th></th>\n",
              "      <th>Name of District</th>\n",
              "      <th>Population</th>\n",
              "      <th>State</th>\n",
              "    </tr>\n",
              "  </thead>\n",
              "  <tbody>\n",
              "    <tr>\n",
              "      <th>0</th>\n",
              "      <td>Pune</td>\n",
              "      <td>3000000.0</td>\n",
              "      <td>MH</td>\n",
              "    </tr>\n",
              "    <tr>\n",
              "      <th>1</th>\n",
              "      <td>Thane</td>\n",
              "      <td>1.0</td>\n",
              "      <td>MH</td>\n",
              "    </tr>\n",
              "    <tr>\n",
              "      <th>2</th>\n",
              "      <td>Aurangabad</td>\n",
              "      <td>100000.0</td>\n",
              "      <td>MH</td>\n",
              "    </tr>\n",
              "    <tr>\n",
              "      <th>3</th>\n",
              "      <td>Bhopal</td>\n",
              "      <td>200000.0</td>\n",
              "      <td>MP</td>\n",
              "    </tr>\n",
              "    <tr>\n",
              "      <th>4</th>\n",
              "      <td>Hoshangabad</td>\n",
              "      <td>100000.0</td>\n",
              "      <td>MP</td>\n",
              "    </tr>\n",
              "    <tr>\n",
              "      <th>5</th>\n",
              "      <td>Indore</td>\n",
              "      <td>1500000.0</td>\n",
              "      <td>MP</td>\n",
              "    </tr>\n",
              "    <tr>\n",
              "      <th>6</th>\n",
              "      <td>Chennai</td>\n",
              "      <td>120000.0</td>\n",
              "      <td>TN</td>\n",
              "    </tr>\n",
              "    <tr>\n",
              "      <th>7</th>\n",
              "      <td>Solhapur</td>\n",
              "      <td>1.0</td>\n",
              "      <td>MH</td>\n",
              "    </tr>\n",
              "    <tr>\n",
              "      <th>8</th>\n",
              "      <td>Sangli</td>\n",
              "      <td>100000.0</td>\n",
              "      <td>MH</td>\n",
              "    </tr>\n",
              "    <tr>\n",
              "      <th>9</th>\n",
              "      <td>Jabalpur</td>\n",
              "      <td>120000.0</td>\n",
              "      <td>MP</td>\n",
              "    </tr>\n",
              "    <tr>\n",
              "      <th>10</th>\n",
              "      <td>Satara</td>\n",
              "      <td>140000.0</td>\n",
              "      <td>MH</td>\n",
              "    </tr>\n",
              "    <tr>\n",
              "      <th>11</th>\n",
              "      <td>Devas</td>\n",
              "      <td>1.0</td>\n",
              "      <td>MP</td>\n",
              "    </tr>\n",
              "    <tr>\n",
              "      <th>12</th>\n",
              "      <td>Budhni</td>\n",
              "      <td>100000.0</td>\n",
              "      <td>MP</td>\n",
              "    </tr>\n",
              "    <tr>\n",
              "      <th>13</th>\n",
              "      <td>Kolhapur</td>\n",
              "      <td>1.0</td>\n",
              "      <td>MH</td>\n",
              "    </tr>\n",
              "    <tr>\n",
              "      <th>14</th>\n",
              "      <td>Gandhinagar</td>\n",
              "      <td>120000.0</td>\n",
              "      <td>GUJ</td>\n",
              "    </tr>\n",
              "    <tr>\n",
              "      <th>15</th>\n",
              "      <td>Bhilai</td>\n",
              "      <td>1.0</td>\n",
              "      <td>MP</td>\n",
              "    </tr>\n",
              "  </tbody>\n",
              "</table>\n",
              "</div>"
            ],
            "text/plain": [
              "   Name of District  Population State\n",
              "0              Pune   3000000.0    MH\n",
              "1             Thane         1.0    MH\n",
              "2        Aurangabad    100000.0    MH\n",
              "3            Bhopal    200000.0    MP\n",
              "4       Hoshangabad    100000.0    MP\n",
              "5            Indore   1500000.0    MP\n",
              "6           Chennai    120000.0    TN\n",
              "7          Solhapur         1.0    MH\n",
              "8            Sangli    100000.0    MH\n",
              "9          Jabalpur    120000.0    MP\n",
              "10           Satara    140000.0    MH\n",
              "11            Devas         1.0    MP\n",
              "12           Budhni    100000.0    MP\n",
              "13         Kolhapur         1.0    MH\n",
              "14      Gandhinagar    120000.0   GUJ\n",
              "15           Bhilai         1.0    MP"
            ]
          },
          "metadata": {
            "tags": []
          },
          "execution_count": 3
        }
      ]
    },
    {
      "cell_type": "code",
      "metadata": {
        "colab": {
          "base_uri": "https://localhost:8080/"
        },
        "id": "wf2nHXWK8FWe",
        "outputId": "d2113e7b-63c4-4176-e7f5-d0f18b3ac84c"
      },
      "source": [
        "df.Population.astype(int)"
      ],
      "execution_count": null,
      "outputs": [
        {
          "output_type": "execute_result",
          "data": {
            "text/plain": [
              "0     3000000\n",
              "1           1\n",
              "2      100000\n",
              "3      200000\n",
              "4      100000\n",
              "5     1500000\n",
              "6      120000\n",
              "7           1\n",
              "8      100000\n",
              "9      120000\n",
              "10     140000\n",
              "11          1\n",
              "12     100000\n",
              "13          1\n",
              "14     120000\n",
              "15          1\n",
              "Name: Population, dtype: int64"
            ]
          },
          "metadata": {
            "tags": []
          },
          "execution_count": 9
        }
      ]
    },
    {
      "cell_type": "code",
      "metadata": {
        "colab": {
          "base_uri": "https://localhost:8080/",
          "height": 538
        },
        "id": "YB6eC_V48Jbq",
        "outputId": "cd2b992e-4f40-4be1-be9d-47db89c5a307"
      },
      "source": [
        "df.rename(columns = {'District Name' : 'Name of District'}, inplace = True )\n",
        "df"
      ],
      "execution_count": 2,
      "outputs": [
        {
          "output_type": "execute_result",
          "data": {
            "text/html": [
              "<div>\n",
              "<style scoped>\n",
              "    .dataframe tbody tr th:only-of-type {\n",
              "        vertical-align: middle;\n",
              "    }\n",
              "\n",
              "    .dataframe tbody tr th {\n",
              "        vertical-align: top;\n",
              "    }\n",
              "\n",
              "    .dataframe thead th {\n",
              "        text-align: right;\n",
              "    }\n",
              "</style>\n",
              "<table border=\"1\" class=\"dataframe\">\n",
              "  <thead>\n",
              "    <tr style=\"text-align: right;\">\n",
              "      <th></th>\n",
              "      <th>Name of District</th>\n",
              "      <th>Population</th>\n",
              "      <th>State</th>\n",
              "    </tr>\n",
              "  </thead>\n",
              "  <tbody>\n",
              "    <tr>\n",
              "      <th>0</th>\n",
              "      <td>Pune</td>\n",
              "      <td>3000000.0</td>\n",
              "      <td>MH</td>\n",
              "    </tr>\n",
              "    <tr>\n",
              "      <th>1</th>\n",
              "      <td>Thane</td>\n",
              "      <td>NaN</td>\n",
              "      <td>MH</td>\n",
              "    </tr>\n",
              "    <tr>\n",
              "      <th>2</th>\n",
              "      <td>Aurangabad</td>\n",
              "      <td>100000.0</td>\n",
              "      <td>MH</td>\n",
              "    </tr>\n",
              "    <tr>\n",
              "      <th>3</th>\n",
              "      <td>Bhopal</td>\n",
              "      <td>200000.0</td>\n",
              "      <td>MP</td>\n",
              "    </tr>\n",
              "    <tr>\n",
              "      <th>4</th>\n",
              "      <td>Hoshangabad</td>\n",
              "      <td>100000.0</td>\n",
              "      <td>MP</td>\n",
              "    </tr>\n",
              "    <tr>\n",
              "      <th>5</th>\n",
              "      <td>Indore</td>\n",
              "      <td>1500000.0</td>\n",
              "      <td>MP</td>\n",
              "    </tr>\n",
              "    <tr>\n",
              "      <th>6</th>\n",
              "      <td>Chennai</td>\n",
              "      <td>120000.0</td>\n",
              "      <td>TN</td>\n",
              "    </tr>\n",
              "    <tr>\n",
              "      <th>7</th>\n",
              "      <td>Solhapur</td>\n",
              "      <td>NaN</td>\n",
              "      <td>MH</td>\n",
              "    </tr>\n",
              "    <tr>\n",
              "      <th>8</th>\n",
              "      <td>Sangli</td>\n",
              "      <td>100000.0</td>\n",
              "      <td>MH</td>\n",
              "    </tr>\n",
              "    <tr>\n",
              "      <th>9</th>\n",
              "      <td>Jabalpur</td>\n",
              "      <td>120000.0</td>\n",
              "      <td>MP</td>\n",
              "    </tr>\n",
              "    <tr>\n",
              "      <th>10</th>\n",
              "      <td>Satara</td>\n",
              "      <td>140000.0</td>\n",
              "      <td>MH</td>\n",
              "    </tr>\n",
              "    <tr>\n",
              "      <th>11</th>\n",
              "      <td>Devas</td>\n",
              "      <td>NaN</td>\n",
              "      <td>MP</td>\n",
              "    </tr>\n",
              "    <tr>\n",
              "      <th>12</th>\n",
              "      <td>Budhni</td>\n",
              "      <td>100000.0</td>\n",
              "      <td>MP</td>\n",
              "    </tr>\n",
              "    <tr>\n",
              "      <th>13</th>\n",
              "      <td>Kolhapur</td>\n",
              "      <td>NaN</td>\n",
              "      <td>MH</td>\n",
              "    </tr>\n",
              "    <tr>\n",
              "      <th>14</th>\n",
              "      <td>Gandhinagar</td>\n",
              "      <td>120000.0</td>\n",
              "      <td>GUJ</td>\n",
              "    </tr>\n",
              "    <tr>\n",
              "      <th>15</th>\n",
              "      <td>Bhilai</td>\n",
              "      <td>NaN</td>\n",
              "      <td>MP</td>\n",
              "    </tr>\n",
              "  </tbody>\n",
              "</table>\n",
              "</div>"
            ],
            "text/plain": [
              "   Name of District  Population State\n",
              "0              Pune   3000000.0    MH\n",
              "1             Thane         NaN    MH\n",
              "2        Aurangabad    100000.0    MH\n",
              "3            Bhopal    200000.0    MP\n",
              "4       Hoshangabad    100000.0    MP\n",
              "5            Indore   1500000.0    MP\n",
              "6           Chennai    120000.0    TN\n",
              "7          Solhapur         NaN    MH\n",
              "8            Sangli    100000.0    MH\n",
              "9          Jabalpur    120000.0    MP\n",
              "10           Satara    140000.0    MH\n",
              "11            Devas         NaN    MP\n",
              "12           Budhni    100000.0    MP\n",
              "13         Kolhapur         NaN    MH\n",
              "14      Gandhinagar    120000.0   GUJ\n",
              "15           Bhilai         NaN    MP"
            ]
          },
          "metadata": {
            "tags": []
          },
          "execution_count": 2
        }
      ]
    },
    {
      "cell_type": "markdown",
      "metadata": {
        "id": "2rXjhJRn8dv6"
      },
      "source": [
        "**Problem Statement 5: Create two series with 'first name' and 'surname' consist of 5 integer numbers (randomly take some positive and negative integers) each and display the 'Addition' and 'Multiplication' output of the two series**"
      ]
    },
    {
      "cell_type": "code",
      "metadata": {
        "colab": {
          "base_uri": "https://localhost:8080/"
        },
        "id": "dRFhGaXw8q2n",
        "outputId": "d9b212d8-8de8-4e0c-933e-b6a30a2aafdd"
      },
      "source": [
        "import pandas as pd\n",
        "import numpy as mp\n",
        "data1 = np.array([10,20,30,40,50])\n",
        "ser1 = pd.Series(data1)\n",
        "data2 = np.array([4,5,6,-9,3,-3])\n",
        "ser2 = pd.Series(data2)\n",
        "Series3 = ser1 + ser2 \n",
        "print(Series3)\n",
        "Series4 = ser1 * ser2\n",
        "print(Series4)"
      ],
      "execution_count": null,
      "outputs": [
        {
          "output_type": "stream",
          "text": [
            "0    14.0\n",
            "1    25.0\n",
            "2    36.0\n",
            "3    31.0\n",
            "4    53.0\n",
            "5     NaN\n",
            "dtype: float64\n",
            "0     40.0\n",
            "1    100.0\n",
            "2    180.0\n",
            "3   -360.0\n",
            "4    150.0\n",
            "5      NaN\n",
            "dtype: float64\n"
          ],
          "name": "stdout"
        }
      ]
    }
  ]
}